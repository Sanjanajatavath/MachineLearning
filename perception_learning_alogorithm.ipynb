{
  "nbformat": 4,
  "nbformat_minor": 0,
  "metadata": {
    "colab": {
      "provenance": [],
      "authorship_tag": "ABX9TyM4dqVLZVpNYKm6KuI8/zVR",
      "include_colab_link": true
    },
    "kernelspec": {
      "name": "python3",
      "display_name": "Python 3"
    },
    "language_info": {
      "name": "python"
    }
  },
  "cells": [
    {
      "cell_type": "markdown",
      "metadata": {
        "id": "view-in-github",
        "colab_type": "text"
      },
      "source": [
        "<a href=\"https://colab.research.google.com/github/Sanjanajatavath/MachineLearning/blob/main/perception_learning_alogorithm.ipynb\" target=\"_parent\"><img src=\"https://colab.research.google.com/assets/colab-badge.svg\" alt=\"Open In Colab\"/></a>"
      ]
    },
    {
      "cell_type": "code",
      "execution_count": null,
      "metadata": {
        "id": "HqNN_BEAmpxA"
      },
      "outputs": [],
      "source": [
        "#Percepton learning algorithm\n",
        "import numpy as np"
      ]
    },
    {
      "cell_type": "code",
      "source": [
        "# Sample data points with labels\n",
        "X = np.array([[1, 2], [0, 0], [-1, -1], [-2, -3]])\n",
        "Y = np.array([1, 0, 1, 0])"
      ],
      "metadata": {
        "id": "kCmSUFrZmvhN"
      },
      "execution_count": null,
      "outputs": []
    },
    {
      "cell_type": "code",
      "source": [
        "# Learning rate\n",
        "learning_rate = 0.1 # Its a hyperparameter.A learning rate of 0.1 means that during each iteration of training, the parameters will be updated by a fraction of 0.1 times"
      ],
      "metadata": {
        "id": "9I5fhuGbmxk8"
      },
      "execution_count": null,
      "outputs": []
    },
    {
      "cell_type": "code",
      "source": [
        "# Random initial weights\n",
        "w = np.random.rand(2)"
      ],
      "metadata": {
        "id": "buUXgr0pmz6r"
      },
      "execution_count": null,
      "outputs": []
    },
    {
      "cell_type": "code",
      "source": [
        "# Threshold\n",
        "threshold = 0"
      ],
      "metadata": {
        "id": "J1cHPWR2m10W"
      },
      "execution_count": null,
      "outputs": []
    },
    {
      "cell_type": "code",
      "source": [
        "# Train the perceptron\n",
        "for epoch in range(100):\n",
        "    for i in range(len(X)):\n",
        "        # Calculate weighted sum\n",
        "        z = np.dot(X[i], w) + threshold\n",
        "\n",
        "        # Activation function (Heaviside step)\n",
        "        y = 1 if z > 0 else 0\n",
        "\n",
        "        # Calculate error\n",
        "        error = Y[i] - y\n",
        "\n",
        "        # Update weights\n",
        "        w[0] -= learning_rate * error * X[i][0]\n",
        "        w[1] -= learning_rate * error * X[i][1]\n",
        "\n",
        "print(\"Final weights:\", w)"
      ],
      "metadata": {
        "colab": {
          "base_uri": "https://localhost:8080/"
        },
        "id": "6jQ-d9Oqm4KZ",
        "outputId": "9acf165d-b017-4808-d7c5-4ace575de65b"
      },
      "execution_count": null,
      "outputs": [
        {
          "output_type": "stream",
          "name": "stdout",
          "text": [
            "Final weights: [10.24700131 10.58881186]\n"
          ]
        }
      ]
    },
    {
      "cell_type": "code",
      "source": [
        "# Test with new data point\n",
        "new_point = np.array([3, 1])\n",
        "z = np.dot(new_point, w) + threshold\n",
        "y = 1 if z > 0 else 0\n",
        "\n",
        "print(\"Prediction for new point:\", y)"
      ],
      "metadata": {
        "colab": {
          "base_uri": "https://localhost:8080/"
        },
        "id": "hZTOGt7Jm-qb",
        "outputId": "10adc95c-5007-44a2-fbc8-ce3940806803"
      },
      "execution_count": null,
      "outputs": [
        {
          "output_type": "stream",
          "name": "stdout",
          "text": [
            "Prediction for new point: 1\n"
          ]
        }
      ]
    },
    {
      "cell_type": "code",
      "source": [],
      "metadata": {
        "id": "2Z7wYtFhnBxp"
      },
      "execution_count": null,
      "outputs": []
    }
  ]
}