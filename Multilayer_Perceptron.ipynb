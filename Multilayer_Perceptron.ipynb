{
  "nbformat": 4,
  "nbformat_minor": 0,
  "metadata": {
    "colab": {
      "provenance": [],
      "authorship_tag": "ABX9TyMPJsIfcF9RSUPA8aLoKiFs",
      "include_colab_link": true
    },
    "kernelspec": {
      "name": "python3",
      "display_name": "Python 3"
    },
    "language_info": {
      "name": "python"
    }
  },
  "cells": [
    {
      "cell_type": "markdown",
      "metadata": {
        "id": "view-in-github",
        "colab_type": "text"
      },
      "source": [
        "<a href=\"https://colab.research.google.com/github/Sanjanajatavath/MachineLearning/blob/main/Multilayer_Perceptron.ipynb\" target=\"_parent\"><img src=\"https://colab.research.google.com/assets/colab-badge.svg\" alt=\"Open In Colab\"/></a>"
      ]
    },
    {
      "cell_type": "code",
      "execution_count": null,
      "metadata": {
        "id": "hfF_yhCnqDWh"
      },
      "outputs": [],
      "source": [
        "from sklearn.datasets import load_wine\n",
        "from sklearn.model_selection import train_test_split\n",
        "from sklearn.preprocessing import StandardScaler\n",
        "import numpy as np\n",
        "import pandas as pd\n",
        "from tensorflow import keras\n",
        "from tensorflow.keras import layers"
      ]
    },
    {
      "cell_type": "code",
      "source": [
        "# Load the wine dataset\n",
        "data = load_wine()"
      ],
      "metadata": {
        "id": "Qsfol4PdqSTG"
      },
      "execution_count": null,
      "outputs": []
    },
    {
      "cell_type": "code",
      "source": [
        "# data = pd.DataFrame(data.data, columns=data.feature_names)\n",
        "# print(data.head())"
      ],
      "metadata": {
        "id": "e7t-ZazqqVjW"
      },
      "execution_count": null,
      "outputs": []
    },
    {
      "cell_type": "code",
      "source": [
        "#Splitting the dataset\n",
        "#This extracts the features (X) and target labels (y) from the loaded dataset.\n",
        "X, y = data.data, data.target\n",
        "# Split the dataset into training, validation, and test sets\n",
        "X_train, X_temp, y_train, y_temp = train_test_split(X, y, test_size=0.3, random_state=42) #training set\n",
        "X_val, X_test, y_val, y_test = train_test_split(X_temp, y_temp, test_size=0.5, random_state=42) #validation set"
      ],
      "metadata": {
        "id": "yinFhbzKqXgy"
      },
      "execution_count": null,
      "outputs": []
    },
    {
      "cell_type": "markdown",
      "source": [],
      "metadata": {
        "id": "IPTgajdnuAeS"
      }
    },
    {
      "cell_type": "code",
      "source": [
        "print(data.target)"
      ],
      "metadata": {
        "colab": {
          "base_uri": "https://localhost:8080/"
        },
        "id": "KDccRQpJqZ31",
        "outputId": "886010a0-58bb-4917-c5e5-1dc05a95d89a"
      },
      "execution_count": null,
      "outputs": [
        {
          "output_type": "stream",
          "name": "stdout",
          "text": [
            "[0 0 0 0 0 0 0 0 0 0 0 0 0 0 0 0 0 0 0 0 0 0 0 0 0 0 0 0 0 0 0 0 0 0 0 0 0\n",
            " 0 0 0 0 0 0 0 0 0 0 0 0 0 0 0 0 0 0 0 0 0 0 1 1 1 1 1 1 1 1 1 1 1 1 1 1 1\n",
            " 1 1 1 1 1 1 1 1 1 1 1 1 1 1 1 1 1 1 1 1 1 1 1 1 1 1 1 1 1 1 1 1 1 1 1 1 1\n",
            " 1 1 1 1 1 1 1 1 1 1 1 1 1 1 1 1 1 1 1 2 2 2 2 2 2 2 2 2 2 2 2 2 2 2 2 2 2\n",
            " 2 2 2 2 2 2 2 2 2 2 2 2 2 2 2 2 2 2 2 2 2 2 2 2 2 2 2 2 2 2]\n"
          ]
        }
      ]
    },
    {
      "cell_type": "code",
      "source": [
        "# Standardize the data\n",
        "scaler = StandardScaler()\n",
        "X_train = scaler.fit_transform(X_train)\n",
        "X_val = scaler.transform(X_val)\n",
        "X_test = scaler.transform(X_test)"
      ],
      "metadata": {
        "id": "6i3bDmhdqcOr"
      },
      "execution_count": null,
      "outputs": []
    },
    {
      "cell_type": "code",
      "source": [
        "# Defining the model architecture\n",
        "model = keras.Sequential([\n",
        "    layers.Dense(64, activation=\"relu\", input_dim=X.shape[1]),  # Hidden layer with 64 neurons and ReLU activation\n",
        "    layers.Dense(32, activation=\"relu\"),                        # Another hidden layer with 32 neurons and ReLU activation\n",
        "    layers.Dense(3, activation=\"softmax\")                       # Output layer with softmax activation for multiclass classification\n",
        "])"
      ],
      "metadata": {
        "id": "4xI-M9WpqeNR"
      },
      "execution_count": null,
      "outputs": []
    },
    {
      "cell_type": "code",
      "source": [
        "# Compile the model\n",
        "model.compile(optimizer=\"adam\", loss=\"sparse_categorical_crossentropy\", metrics=[\"accuracy\"]) #Adam is an optimization algorithm that adapts the learning rate during training"
      ],
      "metadata": {
        "id": "6zir_tt2qg1d"
      },
      "execution_count": null,
      "outputs": []
    },
    {
      "cell_type": "code",
      "source": [
        "# Train the model\n",
        "model.fit(X_train, y_train, epochs=10, validation_data=(X_val, y_val))"
      ],
      "metadata": {
        "colab": {
          "base_uri": "https://localhost:8080/"
        },
        "id": "Zo_CLvVsqmeA",
        "outputId": "771e1f6f-3e1f-47a3-be61-0ead80fe8b69"
      },
      "execution_count": null,
      "outputs": [
        {
          "output_type": "stream",
          "name": "stdout",
          "text": [
            "Epoch 1/10\n",
            "4/4 [==============================] - 2s 158ms/step - loss: 1.2225 - accuracy: 0.1210 - val_loss: 1.1207 - val_accuracy: 0.2593\n",
            "Epoch 2/10\n",
            "4/4 [==============================] - 0s 18ms/step - loss: 1.0619 - accuracy: 0.2339 - val_loss: 1.0023 - val_accuracy: 0.3333\n",
            "Epoch 3/10\n",
            "4/4 [==============================] - 0s 12ms/step - loss: 0.9269 - accuracy: 0.4274 - val_loss: 0.9023 - val_accuracy: 0.5185\n",
            "Epoch 4/10\n",
            "4/4 [==============================] - 0s 13ms/step - loss: 0.8149 - accuracy: 0.6855 - val_loss: 0.8131 - val_accuracy: 0.7037\n",
            "Epoch 5/10\n",
            "4/4 [==============================] - 0s 12ms/step - loss: 0.7199 - accuracy: 0.8306 - val_loss: 0.7304 - val_accuracy: 0.7407\n",
            "Epoch 6/10\n",
            "4/4 [==============================] - 0s 13ms/step - loss: 0.6306 - accuracy: 0.9032 - val_loss: 0.6569 - val_accuracy: 0.8519\n",
            "Epoch 7/10\n",
            "4/4 [==============================] - 0s 12ms/step - loss: 0.5545 - accuracy: 0.9274 - val_loss: 0.5887 - val_accuracy: 0.8519\n",
            "Epoch 8/10\n",
            "4/4 [==============================] - 0s 13ms/step - loss: 0.4849 - accuracy: 0.9355 - val_loss: 0.5278 - val_accuracy: 0.8889\n",
            "Epoch 9/10\n",
            "4/4 [==============================] - 0s 18ms/step - loss: 0.4216 - accuracy: 0.9516 - val_loss: 0.4724 - val_accuracy: 0.8889\n",
            "Epoch 10/10\n",
            "4/4 [==============================] - 0s 13ms/step - loss: 0.3679 - accuracy: 0.9597 - val_loss: 0.4219 - val_accuracy: 0.9259\n"
          ]
        },
        {
          "output_type": "execute_result",
          "data": {
            "text/plain": [
              "<keras.src.callbacks.History at 0x7815877f70a0>"
            ]
          },
          "metadata": {},
          "execution_count": 9
        }
      ]
    },
    {
      "cell_type": "code",
      "source": [
        "# Evaluate the model on the test set\n",
        "test_loss, test_acc = model.evaluate(X_test, y_test)\n",
        "print(f\"Test accuracy: {test_acc:.3f}\")"
      ],
      "metadata": {
        "colab": {
          "base_uri": "https://localhost:8080/"
        },
        "id": "AFRvtPGdqoWe",
        "outputId": "6eb9a95a-03ab-4c97-abe7-b871793bf1fc"
      },
      "execution_count": null,
      "outputs": [
        {
          "output_type": "stream",
          "name": "stdout",
          "text": [
            "1/1 [==============================] - 0s 31ms/step - loss: 0.3502 - accuracy: 1.0000\n",
            "Test accuracy: 1.000\n"
          ]
        }
      ]
    },
    {
      "cell_type": "code",
      "source": [
        "# Make predictions on new data\n",
        "X_new = np.array([\n",
        "    [13.71, 1.86, 2.36, 16.6, 101.2, 2.61, 2.88, 0.27, 1.69, 3.8, 1.11, 4.0, 1035],\n",
        "    [13.56, 1.73, 2.46, 20.5, 116.0, 2.96, 2.78, 0.2, 2.45, 6.25, 0.98, 3.03, 1120]\n",
        "])\n",
        "predictions = model.predict(X_new)\n",
        "print(\"Predictions:\")\n",
        "for i, pred in enumerate(predictions):\n",
        "    print(f\"Sample {i+1}: {pred}\")"
      ],
      "metadata": {
        "colab": {
          "base_uri": "https://localhost:8080/"
        },
        "id": "vYuMPQfxqtX8",
        "outputId": "b216cd5d-4199-4b76-fe19-b51904ef9532"
      },
      "execution_count": null,
      "outputs": [
        {
          "output_type": "stream",
          "name": "stdout",
          "text": [
            "1/1 [==============================] - 0s 142ms/step\n",
            "Predictions:\n",
            "Sample 1: [1. 0. 0.]\n",
            "Sample 2: [1. 0. 0.]\n"
          ]
        }
      ]
    },
    {
      "cell_type": "code",
      "source": [],
      "metadata": {
        "id": "eAhBRRwoqv9w"
      },
      "execution_count": null,
      "outputs": []
    }
  ]
}